{
 "cells": [
  {
   "cell_type": "code",
   "execution_count": 15,
   "id": "7698caaf",
   "metadata": {},
   "outputs": [],
   "source": [
    "import numpy as np\n",
    "from matplotlib import pyplot as plt\n"
   ]
  },
  {
   "cell_type": "markdown",
   "id": "c7ab2b8a",
   "metadata": {},
   "source": [
    "The Bayesian Theorem is a fundamental theorem in probability theory and statistics that describes the probability of an event (posterior), based on prior knowledge of conditions that might be related to the event. \n",
    "\n",
    "The formula for Bayesian Theorem is given by:\n",
    "\n",
    "$$\n",
    "P(A|B) = \\frac{P(B|A) \\cdot P(A)}{P(B)}\n",
    "$$\n",
    "\n",
    "Where:\n",
    "- $P(A|B)$ is the posterior probability of $A$ given $B$,\n",
    "- $P(B|A)$ is the likelihood of $B$ given $A$,\n",
    "- $P(A)$ is the prior probability of $A$,\n",
    "- $P(B)$ is the marginal likelihood or evidence.\n"
   ]
  },
  {
   "cell_type": "markdown",
   "id": "bedf162a",
   "metadata": {},
   "source": [
    "## Poblem 1: Disease Diagnosis\n"
   ]
  },
  {
   "cell_type": "markdown",
   "id": "2695ddb1",
   "metadata": {},
   "source": [
    "\n",
    "### Objective\n",
    "\n",
    "Simulate a scenario for medical testing using Bayes' Theorem.\n",
    "\n",
    "#### Tasks\n",
    "\n",
    "1. **Define Variables**\n",
    "    - Prevalence of a disease.\n",
    "    - Sensitivity of a test (true positive rate).\n",
    "    - Specificity of the test (true negative rate).\n",
    "\n",
    "2. **Write a Function**\n",
    "    - Calculate the probability of having the disease given a positive test result using Bayes' Theorem.\n",
    "\n",
    "3. **Run Simulations**\n",
    "    - Use different prevalence rates and test accuracies to see how they affect the outcome.\n",
    "\n",
    "#### Expected Learning Outcome\n",
    "\n",
    "- Understand the critical impact of test accuracy (sensitivity and specificity) and disease prevalence on the reliability of medical diagnostics. This exercise aims to highlight how Bayes' Theorem can be applied to real-world problems in medical diagnostics, showcasing the importance of considering these factors in interpreting test results.\n",
    "\n",
    "---"
   ]
  },
  {
   "cell_type": "markdown",
   "id": "42f87898",
   "metadata": {},
   "source": [
    "\n",
    "### Example Scenario\n",
    "\n",
    "Suppose there is a rare disease that affects 1 out of every 1000 people. A test for this disease is 99% accurate, meaning it correctly identifies 99% of people who have the disease (true positive) and 99% of people who don't have the disease (true negative).\n",
    "\n",
    "**Question:** If a person tests positive, what is the probability that they actually have the disease?\n",
    "\n",
    "**Application of Bayes' Theorem:**\n",
    "\n",
    "- **Prior Probability** \\($P(\\text{Disease})$\\) = 0.001 (1 in 1000)\n",
    "- **Likelihood** \\($P(\\text{Positive} | \\text{Disease})$\\) = 0.99\n",
    "- **Marginal Probability** \\($P(\\text{Positive})$) = $P(\\text{Disease}) \\times P(\\text{Positive} | \\text{Disease}) + P(\\text{No Disease}) \\times P(\\text{Positive} | \\text{No Disease})$\n",
    "- **Posterior Probability** \\($P(\\text{Disease} | \\text{Positive})\\) = ?\n",
    "\n",
    "---\n"
   ]
  },
  {
   "cell_type": "code",
   "execution_count": 20,
   "id": "447ea655-11aa-4cd2-9dca-609d50c5fab2",
   "metadata": {},
   "outputs": [
    {
     "name": "stdout",
     "output_type": "stream",
     "text": [
      "The probability of disease given postive test: 0.0902\n"
     ]
    }
   ],
   "source": [
    "def Bayes_medical_diagnosis ( p_disease, TP, TN):\n",
    "    \"\"\"\n",
    "    Parameters:\n",
    "    p_disease: P(Disease)\n",
    "    TP: P(postive/disease)\n",
    "    TN: P(Negative/NoDisease)\n",
    "    \"\"\" \n",
    "    # Prior (P(~Disease)= 1-P(Disease)\n",
    "    p_no_disease = 1-p_disease\n",
    "    # Let's find P(Postive/NoDisease) = 1-P(Negative/NoDisease) = 1-TN\n",
    "    p_postive_NoDisease = 1-TN\n",
    "    # Marginal Probability (P(Postive)\n",
    "    p_positive = p_disease*TP + p_no_disease*p_postive_NoDisease\n",
    "\n",
    "    # Finally our posterior probability : P(Disease/Postive)\n",
    "    p_disease_postive = (TP*p_disease)/p_positive\n",
    "\n",
    "    return p_disease_postive\n",
    "p_disease = 0.001\n",
    "TP = 0.99\n",
    "TN = 0.99\n",
    "posterior= Bayes_medical_diagnosis(p_disease,TP,TN)\n",
    "print(f\"The probability of disease given postive test: {posterior:.4f}\")"
   ]
  },
  {
   "cell_type": "markdown",
   "id": "4c65fc90",
   "metadata": {},
   "source": [
    "## Problem 2: Spam Detection\n",
    "### Part 1: Let's solve our example for Spam Email Scenario \n",
    "\n",
    "\n",
    "An email filter is designed to catch spam emails. It has a 99% success rate of identifying spam and a 99% success rate of correctly passing through regular emails.\\\n",
    "Question: If an email is marked as spam, what's the probability it really is spam, given that 5% of all emails are\n",
    "actually spam?\n",
    "\n",
    "Given:\n",
    "- $P(A)$ = 0.05 : Probability of email being spam\n",
    "- $P(B)$: Marginal Probability of marked spam\n",
    "- $P(B'/A')$= 0.99: Success rate of passing regular email (i.e., Marking no spam while no spam)\n",
    "- $P(B/A')$ =1-0.99: Probality of Marking email spam  when not spam\n",
    "- $P(B|A)$ = 0.99 Porablity identifying spam (Marking spam,\n",
    "- $P(B/A)$ = 0.99: Success rate of identifying spam(i.e., marking spam when its actually spam)\n",
    "- $P(A|B)$ is the posterior probability of email being spam when marked spam \n",
    "\n",
    "\n",
    "$$\n",
    "P(A|B) = \\frac{P(B|A) \\cdot P(A)}{P(B)}\n",
    "$$"
   ]
  },
  {
   "cell_type": "code",
   "execution_count": 17,
   "id": "5a51b66e",
   "metadata": {},
   "outputs": [
    {
     "name": "stdout",
     "output_type": "stream",
     "text": [
      "The probability that an email is actually spam given it is marked as spam: 0.84\n"
     ]
    }
   ],
   "source": [
    "\n",
    "def bayes_spam(p_a,p_b_given_a, p_not_b_given_not_a):\n",
    "   \n",
    "    # Calculate P(B|~A), the probability the filter incorrectly marks a regular email as spam\n",
    "    p_b_given_not_a = 1 - p_not_b_given_not_a\n",
    "\n",
    "    # Prior probability of regular (P(~A))\n",
    "    p_not_a= 1 - p_a\n",
    "    # Calculate P(B), the marginal probability an email is marked as spam\n",
    "    p_b = (p_b_given_a* p_a) + (p_b_given_not_a * p_not_a)\n",
    "    \n",
    "    # Calculate P(A|B), the probability an email is actually spam given it's marked as spam\n",
    "    p_a_given_b = (p_b_given_a* p_a) / p_b\n",
    "    \n",
    "    return p_a_given_b\n",
    "\n",
    "# Example usage\n",
    "p_a = 0.05  # 5% of all emails are actually spam\n",
    "p_b_given_a = 0.99  # 99% success rate of identifying spam\n",
    "p_not_b_given_not_a = 0.99  # 99% success rate of correctly passing through regular emails P(~B/~A)\n",
    "\n",
    "# Calculate the probability\n",
    "probability = bayes_spam(p_a,p_b_given_a, p_not_b_given_not_a)\n",
    "print(f\"The probability that an email is actually spam given it is marked as spam: {probability:.2f}\")\n"
   ]
  },
  {
   "cell_type": "markdown",
   "id": "68238333",
   "metadata": {},
   "source": [
    "\n",
    "### Part 2: Objective\n",
    "\n",
    "Use Bayes' Theorem to calculate the probability of an email being spam.\n",
    "\n",
    "#### Tasks\n",
    "\n",
    "1. **Define Probabilities Based on a Given Dataset**\n",
    "    - Probability of an email being spam.\n",
    "    - Probability of certain keywords appearing in spam and non-spam emails.\n",
    "\n",
    "2. **Create a Function**\n",
    "    - Compute the probability of an email being spam given the presence of certain keywords using Bayes' Theorem.\n",
    "\n",
    "3. **Test the Function**\n",
    "    - Test the function with different sets of keywords."
   ]
  },
  {
   "cell_type": "markdown",
   "id": "e88bf62c-feaf-4a20-8904-0127bdc0955e",
   "metadata": {},
   "source": [
    "\n",
    "### Step 1: Define Probabilities Based on a Given Dataset\n",
    "\n",
    "We will use a simplified dataset with the following characteristics:\n",
    "\n",
    "- **Total emails**: 100\n",
    "- **Spam emails**: 20 (20% of all emails)\n",
    "- **Non-spam (Regular) emails**: 80 (80% of all emails)\n",
    "\n",
    "We focus on two keywords and their distribution in spam and non-spam emails:\n",
    "\n",
    "- **Keyword \"offer\"**: \n",
    "  - Appears in 15 out of 20 spam emails (75%).\n",
    "  - Appears in 10 out of 80 regular emails (12.5%).\n",
    "\n",
    "- **Keyword \"free\"**: \n",
    "  - Appears in 10 out of 20 spam emails (50%).\n",
    "  - Appears in 5 out of 80 regular emails (6.25%).\n",
    "\n",
    "Based on this data:\n",
    "\n",
    "- The prior probability of an email being spam, \\(P(A)\\), is 0.2.\n",
    "- The probabilities of keywords appearing in spam emails (\\(P(B|A)\\)) are 0.75 for \"offer\" and 0.50 for \"free\".\n",
    "- The probabilities of keywords appearing in regular emails (\\(P(B|\\neg A)\\)) are 0.125 for \"offer\" and 0.0625 for \"free\".\n"
   ]
  },
  {
   "cell_type": "markdown",
   "id": "d4c9c722-d163-4a8e-83e6-cc290f89e1d1",
   "metadata": {},
   "source": [
    "### Step 2: Create a Function to Compute the Probability\n",
    "\n",
    "A function is defined to compute the probability of an email being spam given the presence of certain keywords, using Bayes' Theorem. This function takes the prior probability of spam, the probabilities of keywords appearing in spam and regular emails, and a list of keywords present in the email being analyzed.\n"
   ]
  },
  {
   "cell_type": "code",
   "execution_count": 22,
   "id": "dfa26b43-0154-4f10-a90b-9117033b2ef4",
   "metadata": {},
   "outputs": [],
   "source": [
    "# Define the function to compute the probability of spam given keywords\n",
    "def bayes_spam_keywords(p_a, keyword_probs_spam, keyword_probs_regular, keywords_present):\n",
    "    \"\"\"\n",
    "    Compute the probability of an email being spam given the presence of certain keywords.\n",
    "    \n",
    "    Parameters:\n",
    "    - p_a: Prior probability of an email being spam.\n",
    "    - keyword_probs_spam (dict): Probabilities of keywords appearing in spam emails.\n",
    "    - keyword_probs_regular (dict): Probabilities of keywords appearing in regular emails.\n",
    "    - keywords_present (list): List of keywords present in the email being analyzed.\n",
    "    \n",
    "    Return:\n",
    "    -Probability an email is spam given the presence of certain keywords.\n",
    "    \"\"\"\n",
    "    # Calculate the average probability of the present keywords appearing in spam emails\n",
    "    p_b_given_a = sum(keyword_probs_spam[key] for key in keywords_present) / len(keywords_present)\n",
    "    \n",
    "    # Calculate the average probability of the present keywords appearing in regular emails\n",
    "    p_b_given_not_a = sum(keyword_probs_regular[key] for key in keywords_present) / len(keywords_present)\n",
    "    \n",
    "    # Calculate the prior probability of an email not being spam\n",
    "    p_not_a = 1 - p_a\n",
    "    \n",
    "    # Calculate the marginal probability of the keywords being present in any email\n",
    "    p_b = (p_b_given_a * p_a) + (p_b_given_not_a * p_not_a)\n",
    "    \n",
    "    # Calculate the posterior probability of an email being spam given the presence of certain keywords\n",
    "    p_a_given_b = (p_b_given_a * p_a) / p_b\n",
    "    \n",
    "    # Return the calculated probability\n",
    "    return p_a_given_b\n"
   ]
  },
  {
   "cell_type": "markdown",
   "id": "21faca19-2b83-4d57-bb80-4334c16fe1c2",
   "metadata": {},
   "source": [
    "\n",
    "\n",
    "### Step 3: Test the Function with Different Sets of Keywords\n",
    "\n",
    "The function is tested with different sets of keywords, such as [\"offer\"], [\"free\"], and [\"offer\", \"free\"], to observe how the presence of these keywords affects the computed probability of an email being classified as spam.\n"
   ]
  },
  {
   "cell_type": "code",
   "execution_count": 23,
   "id": "952b7c3d-2e62-4b1f-9378-1757c3e6bb0f",
   "metadata": {},
   "outputs": [
    {
     "name": "stdout",
     "output_type": "stream",
     "text": [
      "Keywords: ['offer'] => Probability of spam: 0.60\n",
      "Keywords: ['free'] => Probability of spam: 0.67\n",
      "Keywords: ['offer', 'free'] => Probability of spam: 0.62\n"
     ]
    }
   ],
   "source": [
    "# Define probabilities for keywords in spam and regular emails\n",
    "keyword_probs_spam = {'offer': 0.75, 'free': 0.50}  # Probabilities of keywords in spam emails\n",
    "keyword_probs_regular = {'offer': 0.125, 'free': 0.0625}  # Probabilities of keywords in regular emails\n",
    "\n",
    "# Define test sets of keywords\n",
    "test_keywords = [['offer'], ['free'], ['offer', 'free']]  # Different sets of keywords to test\n",
    "\n",
    "# Loop through each set of keywords to test the function\n",
    "for keywords in test_keywords:\n",
    "    # Calculate the probability of an email being spam given the keywords\n",
    "    probability =  bayes_spam_keywords(0.2, keyword_probs_spam, keyword_probs_regular, keywords)\n",
    "    # Print the probability for each set of keywords\n",
    "    print(f\"Keywords: {keywords} => Probability of spam: {probability:.2f}\")\n"
   ]
  }
 ],
 "metadata": {
  "kernelspec": {
   "display_name": "Python 3 (ipykernel)",
   "language": "python",
   "name": "python3"
  },
  "language_info": {
   "codemirror_mode": {
    "name": "ipython",
    "version": 3
   },
   "file_extension": ".py",
   "mimetype": "text/x-python",
   "name": "python",
   "nbconvert_exporter": "python",
   "pygments_lexer": "ipython3",
   "version": "3.11.3"
  }
 },
 "nbformat": 4,
 "nbformat_minor": 5
}
